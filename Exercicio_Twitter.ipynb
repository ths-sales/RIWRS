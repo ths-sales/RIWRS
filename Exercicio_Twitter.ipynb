{
 "cells": [
  {
   "cell_type": "code",
   "execution_count": 1,
   "metadata": {},
   "outputs": [],
   "source": [
    "from tweepy import OAuthHandler\n",
    "from tweepy import Stream\n",
    "from tweepy.streaming import StreamListener\n",
    "import time"
   ]
  },
  {
   "cell_type": "code",
   "execution_count": 2,
   "metadata": {},
   "outputs": [],
   "source": [
    "# setup security \n",
    "access_token = '113022519-8jPwbeaAMgeqV1V8xd3WGwUqZiYkzp9oxjjql3NF'\n",
    "access_token_secret = 'PxMBoxGIoLF5y5sLxchmlPVbGTqZmO5RIiIT9Jog7Y6YB'\n",
    "consumer_key = 'mcGRiQDiKiIGoLafZEkOAgR1D'\n",
    "consumer_secret = 'JQXi0uoA0vba5uHr4NyCUDMcEPYqayihb2OMMd3vfhHc0bLrJc'\n",
    "\n",
    "# setup file store\n",
    "file = 'C:\\\\RIWRS\\\\teste.json'"
   ]
  },
  {
   "cell_type": "code",
   "execution_count": 3,
   "metadata": {},
   "outputs": [],
   "source": [
    "class MyListener(StreamListener):\n",
    "        \n",
    "    \n",
    "    def __init__(self, file):\n",
    "        global the_file\n",
    "        self.the_file = open(file, 'w')\n",
    "        \n",
    "    def on_data(self, data):\n",
    "        self.the_file.write(data)\n",
    "        return True\n",
    "    \n",
    "    def on_error(self, status):\n",
    "        print(status)\n",
    "        \n",
    "    def file_close(self):\n",
    "        self.the_file.close()"
   ]
  },
  {
   "cell_type": "code",
   "execution_count": 4,
   "metadata": {},
   "outputs": [
    {
     "name": "stdout",
     "output_type": "stream",
     "text": [
      "**Finish**\n"
     ]
    }
   ],
   "source": [
    "listener = MyListener(file)\n",
    "oauth = OAuthHandler(consumer_key, consumer_secret)\n",
    "oauth.set_access_token(access_token, access_token_secret)\n",
    "\n",
    "max_time = 10 # in seconds\n",
    "start_time = time.time() \n",
    "\n",
    "## collecting...\n",
    "stream = Stream(oauth, listener)\n",
    "#stream.filter(track=['copa', 'neymar', 'messi'],async=True,languages=['pt'])\n",
    "stream.filter(track=['espanha', 'ira', 'critiano ronaldo'],async=True)\n",
    "\n",
    "elapsed_time = (time.time() - start_time)\n",
    "while  elapsed_time < max_time:\n",
    "    elapsed_time = (time.time() - start_time)\n",
    "\n",
    "    \n",
    "print('**Finish**')\n",
    "stream.disconnect()\n",
    "listener.file_close()"
   ]
  },
  {
   "cell_type": "code",
   "execution_count": 5,
   "metadata": {},
   "outputs": [],
   "source": [
    "import json\n",
    "import pandas as pd\n",
    "import matplotlib.pyplot as plt\n",
    "%matplotlib inline"
   ]
  },
  {
   "cell_type": "code",
   "execution_count": 6,
   "metadata": {},
   "outputs": [],
   "source": [
    "tweets_data = []\n",
    "tweets_file = open(file, \"r\")\n",
    "for line in tweets_file:\n",
    "    try:\n",
    "        tweet = json.loads(line)\n",
    "        tweets_data.append(tweet)\n",
    "    except:\n",
    "        continue"
   ]
  },
  {
   "cell_type": "code",
   "execution_count": 7,
   "metadata": {},
   "outputs": [
    {
     "name": "stdout",
     "output_type": "stream",
     "text": [
      "   lang                                               text country\n",
      "0    pt        Meu deus a Espanha vai me causar um infarto    None\n",
      "1    pt  Msm provavelmente eliminados tao jogando mt be...    None\n",
      "2    pt  Jesus amado eu amo a #Copa2018 Portugal atacan...    None\n",
      "3    pt  RT @kcestrabao: KKKKKKKKKKKKKKKKKKKKKKKKKKKKKK...    None\n",
      "4    pt  RT @CACCST: Paula Amorim e Breno Simões irá se...    None\n",
      "5    pt            eu não tô pronto pra ver Espanha perder    None\n",
      "6    pt  RT @CuriosidadesEU: Isco com a camisa da Espan...    None\n",
      "7    pt  Em andamento:\\n\\n🇪🇸 ESP 1x1 MAR 🇲🇦\\n🇮🇷 I...    None\n",
      "8    pt  Paraguaio Enrique Cáceres em Irã x Portugal.\\n...    None\n",
      "9    pt  RT @calhau: Se Alemanha e Espanha se enfrentam...    None\n",
      "10   pt   AAAAAAAAAA \\nQuero ver Espanha e Marrocos também    None\n",
      "11   fr  Par contre les mecs qui s'appellent \"bb\" vous ...    None\n",
      "12   pt  RT @RodFerreiraBFR: Marrocos x Espanha tá um j...    None\n",
      "13   pt                          Espanha acabou de empatar    None\n",
      "14   pt  RT @DonaLuciaHexa: Linda foi a troca de passes...    None\n",
      "15   pt  RT @DonaLuciaHexa: Linda foi a troca de passes...    None\n",
      "16   pt  RT @canarinholoko: Irã X Portugal\\nEspanha X M...    None\n",
      "17   pt  quero ver Espanha af a gente podia escolher qu...    None\n",
      "18   pt               Tá uma mãe essa zaga da Espanha 🇪🇸    None\n",
      "19   pt                   Namorado https://t.co/sgcRSHi3wb    None\n",
      "20   pt  @GoncaloMagalha4 @lu14_ma Sabe q a Suíça é uma...    None\n",
      "21   pt  Mesmo assim sinto que Portugal está fazendo um...    None\n",
      "22   pt  Um olho no jogo de Portugal, outro no jogo da ...    None\n",
      "23   pt  Enquanto isso, o placar do jogo entre Espanha ...    None\n",
      "24  und  RT @PensadorZarolho: #TopPlayer https://t.co/s...    None\n",
      "25   pt  RT @Vezon_: Árbitro interrompe Irã x Portugal ...    None\n",
      "26   pt  RT @s_santista: espanha x marrocos deve tá mai...    None\n",
      "27   pt  RT @ligaptdadepre: Namorem com uma gaja que se...    None\n",
      "28   pt  se a espanha cair de novo eu olha sinceramente...    None\n",
      "29   pt  🇪🇸1⃣x1⃣🇲🇦\\n⏰25'1T: Isco faz o gol de empat...    None\n"
     ]
    }
   ],
   "source": [
    "tweets = pd.DataFrame()\n",
    "\n",
    "tweets['lang'] = ''\n",
    "tweets['text'] = ''\n",
    "tweets['country'] = ''\n",
    "for tweet in tweets_data:\n",
    "    if 'lang' in tweet:\n",
    "        tweets.loc[len(tweets)] = [tweet['lang'],\n",
    "                               tweet['text'],\n",
    "                               tweet['place']['country'] if tweet['place'] != None else None]\n",
    "    \n",
    "print(tweets.head(30))"
   ]
  },
  {
   "cell_type": "code",
   "execution_count": 8,
   "metadata": {},
   "outputs": [
    {
     "data": {
      "text/plain": [
       "<matplotlib.axes._subplots.AxesSubplot at 0x1344c128>"
      ]
     },
     "execution_count": 8,
     "metadata": {},
     "output_type": "execute_result"
    },
    {
     "data": {
      "image/png": "[encoded data removed]",
      "text/plain": [
       "<Figure size 432x288 with 1 Axes>"
      ]
     },
     "metadata": {},
     "output_type": "display_data"
    }
   ],
   "source": [
    "tweets_by_lang = tweets['lang'].value_counts()\n",
    "\n",
    "fig, ax = plt.subplots()\n",
    "ax.tick_params(axis='x', labelsize=15)\n",
    "ax.tick_params(axis='y', labelsize=10)\n",
    "ax.set_xlabel('Languages', fontsize=15)\n",
    "ax.set_ylabel('Number of tweets' , fontsize=15)\n",
    "ax.set_title('Top 5 languages', fontsize=15, fontweight='bold')\n",
    "tweets_by_lang[:5].plot(ax=ax, kind='bar', color='red')"
   ]
  },
  {
   "cell_type": "code",
   "execution_count": null,
   "metadata": {},
   "outputs": [],
   "source": []
  }
 ],
 "metadata": {
  "kernelspec": {
   "display_name": "Python 2",
   "language": "python",
   "name": "python2"
  },
  "language_info": {
   "codemirror_mode": {
    "name": "ipython",
    "version": 2
   },
   "file_extension": ".py",
   "mimetype": "text/x-python",
   "name": "python",
   "nbconvert_exporter": "python",
   "pygments_lexer": "ipython2",
   "version": "2.7.15"
  }
 },
 "nbformat": 4,
 "nbformat_minor": 2
}
